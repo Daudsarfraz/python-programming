{
 "cells": [
  {
   "cell_type": "markdown",
   "metadata": {},
   "source": [
    "### Six ways to flatten a List"
   ]
  },
  {
   "cell_type": "code",
   "execution_count": 1,
   "metadata": {},
   "outputs": [
    {
     "name": "stdout",
     "output_type": "stream",
     "text": [
      "Len of i =  3\n",
      "i [1, 2, 3]\n",
      "j 1\n",
      "Appending value 1 to list\n",
      "j 2\n",
      "Appending value 2 to list\n",
      "j 3\n",
      "Appending value 3 to list\n",
      "Len of i =  4\n",
      "i [4, 5, 6, 7]\n",
      "j 4\n",
      "Appending value 4 to list\n",
      "j 5\n",
      "Appending value 5 to list\n",
      "j 6\n",
      "Appending value 6 to list\n",
      "j 7\n",
      "Appending value 7 to list\n",
      "Len of i =  4\n",
      "i [8, 9, 10, 11]\n",
      "j 8\n",
      "Appending value 8 to list\n",
      "j 9\n",
      "Appending value 9 to list\n",
      "j 10\n",
      "Appending value 10 to list\n",
      "j 11\n",
      "Appending value 11 to list\n",
      "[1, 2, 3, 4, 5, 6, 7, 8, 9, 10, 11]\n"
     ]
    }
   ],
   "source": [
    "list1 = [[1,2,3],[4,5,6,7],[8,9,10,11]]\n",
    "new_list = []\n",
    "\n",
    "for i in list1:\n",
    "    print(\"Len of i = \",len(i))\n",
    "    print(\"i\",i)\n",
    "    for j in i:\n",
    "        print(\"j\",j)\n",
    "        print(f\"Appending value {j} to list\")\n",
    "        new_list.append(j)\n",
    "\n",
    "print(new_list)\n",
    "\n"
   ]
  },
  {
   "cell_type": "code",
   "execution_count": 2,
   "metadata": {},
   "outputs": [
    {
     "name": "stdout",
     "output_type": "stream",
     "text": [
      "[1, 2, 3, 4, 5, 6, 7, 8, 9, 10, 11]\n"
     ]
    }
   ],
   "source": [
    "list1 = [[1,2,3],[4,5,6,7],[8,9,10,11]]\n",
    "result = [innerlist for outerlist in list1 for innerlist in outerlist]\n",
    "print(result)"
   ]
  },
  {
   "cell_type": "code",
   "execution_count": 4,
   "metadata": {},
   "outputs": [
    {
     "name": "stdout",
     "output_type": "stream",
     "text": [
      "0.8535068639976089\n"
     ]
    }
   ],
   "source": [
    "from timeit import timeit\n",
    "print(timeit(\"[innerlist for outerlist in list1 for innerlist in outerlist]\", \"from __main__ import list1\"))"
   ]
  },
  {
   "cell_type": "code",
   "execution_count": 5,
   "metadata": {},
   "outputs": [
    {
     "name": "stdout",
     "output_type": "stream",
     "text": [
      "Len of i =  3\n",
      "i [1, 2, 3]\n",
      "Len of i =  4\n",
      "i [4, 5, 6, 7]\n",
      "Len of i =  4\n",
      "i [8, 9, 10, 11]\n",
      "[1, 2, 3, 4, 5, 6, 7, 8, 9, 10, 11]\n"
     ]
    }
   ],
   "source": [
    "list1 = [[1,2,3],[4,5,6,7],[8,9,10,11]]\n",
    "new_list = []\n",
    "\n",
    "for i in list1:\n",
    "    print(\"Len of i = \",len(i))\n",
    "    print(\"i\",i)\n",
    "    new_list = new_list + i\n",
    "\n",
    "print(new_list)"
   ]
  },
  {
   "cell_type": "code",
   "execution_count": 7,
   "metadata": {},
   "outputs": [
    {
     "name": "stdout",
     "output_type": "stream",
     "text": [
      "[1, 2, 3, 4, 5, 6, 7, 8, 9, 10, 11]\n"
     ]
    }
   ],
   "source": [
    "list1 = [[1,2,3],[4,5,6,7],[8,9,10,11]]\n",
    "result2 = sum(list1, [])\n",
    "print(result2)"
   ]
  },
  {
   "cell_type": "code",
   "execution_count": 9,
   "metadata": {},
   "outputs": [
    {
     "name": "stdout",
     "output_type": "stream",
     "text": [
      "0.3979934620001586\n"
     ]
    }
   ],
   "source": [
    "from timeit import timeit\n",
    "print(timeit(\"sum(list1, [])\", \"from __main__ import list1\"))"
   ]
  },
  {
   "cell_type": "code",
   "execution_count": 12,
   "metadata": {},
   "outputs": [
    {
     "name": "stdout",
     "output_type": "stream",
     "text": [
      "[1, 2, 3, 4, 5, 6, 7, 8, 9, 10, 11]\n"
     ]
    }
   ],
   "source": [
    "list1 = [[1,2,3],[4,5,6,7],[8,9,10,11]]\n",
    "\n",
    "from functools import reduce\n",
    "result4 = reduce(lambda x,y : x+y, list1)\n",
    "print(result4)"
   ]
  },
  {
   "cell_type": "code",
   "execution_count": 14,
   "metadata": {},
   "outputs": [
    {
     "name": "stdout",
     "output_type": "stream",
     "text": [
      "0.4760102359978191\n"
     ]
    }
   ],
   "source": [
    "from timeit import timeit\n",
    "print(timeit(\"reduce(lambda x,y: x+y, list1)\", \"from __main__ import list1; from functools import reduce\"))"
   ]
  },
  {
   "cell_type": "code",
   "execution_count": 16,
   "metadata": {},
   "outputs": [
    {
     "name": "stdout",
     "output_type": "stream",
     "text": [
      "[1, 2, 3, 4, 5, 6, 7, 8, 9, 10, 11]\n"
     ]
    }
   ],
   "source": [
    "list1 = [[1,2,3],[4,5,6,7],[8,9,10,11]]\n",
    "\n",
    "from functools import reduce\n",
    "from operator import add\n",
    "result5 =  reduce(add, list1)\n",
    "print(result5)"
   ]
  },
  {
   "cell_type": "code",
   "execution_count": 17,
   "metadata": {},
   "outputs": [
    {
     "name": "stdout",
     "output_type": "stream",
     "text": [
      "0.2977846169997065\n"
     ]
    }
   ],
   "source": [
    "from timeit import timeit\n",
    "print(timeit(\"reduce(add, list1)\", \"from __main__ import list1; from operator import add; from functools import reduce\"))\n"
   ]
  },
  {
   "cell_type": "code",
   "execution_count": 19,
   "metadata": {},
   "outputs": [
    {
     "name": "stdout",
     "output_type": "stream",
     "text": [
      "[1, 2, 3, 4, 5, 6, 7, 8, 9, 10, 11]\n"
     ]
    }
   ],
   "source": [
    "list1 = [[1,2,3],[4,5,6,7],[8,9,10,11]]\n",
    "\n",
    "from itertools import chain\n",
    "result3 = list(chain(*list1))\n",
    "print(result3)"
   ]
  },
  {
   "cell_type": "code",
   "execution_count": 20,
   "metadata": {},
   "outputs": [
    {
     "name": "stdout",
     "output_type": "stream",
     "text": [
      "0.5779259410010127\n"
     ]
    }
   ],
   "source": [
    "from timeit import timeit\n",
    "print(timeit(\"list(chain(*list1))\", \"from __main__ import list1; from itertools import chain\"))"
   ]
  },
  {
   "cell_type": "code",
   "execution_count": 22,
   "metadata": {},
   "outputs": [
    {
     "name": "stdout",
     "output_type": "stream",
     "text": [
      "[1, 2, 3, 4, 5, 6, 7, 8, 9, 10, 11]\n"
     ]
    }
   ],
   "source": [
    "list1 = [[1,2,3],[4,5,6,7],[8,9,10,11]]\n",
    "\n",
    "from itertools import chain\n",
    "result3 = list(chain.from_iterable(list1))\n",
    "print(result3)"
   ]
  },
  {
   "cell_type": "code",
   "execution_count": 23,
   "metadata": {},
   "outputs": [
    {
     "name": "stdout",
     "output_type": "stream",
     "text": [
      "0.6360882539993327\n"
     ]
    }
   ],
   "source": [
    "from timeit import timeit\n",
    "print(timeit(\"list(chain.from_iterable(list1))\", \"from __main__ import list1; from itertools import chain\"))"
   ]
  }
 ],
 "metadata": {
  "kernelspec": {
   "display_name": "Virenv",
   "language": "python",
   "name": "python3"
  },
  "language_info": {
   "codemirror_mode": {
    "name": "ipython",
    "version": 3
   },
   "file_extension": ".py",
   "mimetype": "text/x-python",
   "name": "python",
   "nbconvert_exporter": "python",
   "pygments_lexer": "ipython3",
   "version": "3.10.12"
  },
  "orig_nbformat": 4
 },
 "nbformat": 4,
 "nbformat_minor": 2
}
