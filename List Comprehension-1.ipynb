{
 "cells": [
  {
   "cell_type": "markdown",
   "metadata": {},
   "source": [
    "# List Comprehension"
   ]
  },
  {
   "cell_type": "markdown",
   "metadata": {},
   "source": []
  },
  {
   "cell_type": "markdown",
   "metadata": {},
   "source": [
    "* List comprehensions have been a feature of the Python programming language since its early versions. They were introduced in Python 2.0, which was released in October 2000. Guido van Rossum, the creator of Python, added list comprehensions as a way to make code more concise and expressive for common tasks involving iterating over and transforming elements in sequences.\n",
    "\n",
    "* The introduction of list comprehensions was inspired by similar constructs in functional programming languages like Haskell and set-builder notation in mathematics. List comprehensions aimed to provide a more elegant and readable way to create lists by applying transformations and filters in a compact manner.\n",
    "\n",
    "* List comprehensions were very well received by the Python community and became a fundamental part of the language. They not only simplified code but also promoted a more functional programming style in Python, encouraging developers to focus on the transformation of data rather than explicit looping and mutation.\n",
    "\n",
    "* Since their introduction, list comprehensions have remained a core feature of Python and have been widely used by developers for various tasks involving sequence processing. Over time, other similar constructs like dictionary comprehensions and set comprehensions were introduced in Python, further extending the concept of comprehensions to other data structures.\n",
    "\n",
    "* In summary, list comprehensions were introduced in Python 2.0 and have since become a popular and powerful feature, contributing to the readability and conciseness of Python code.\n",
    "\n",
    "\n",
    "\n",
    "\n",
    "\n"
   ]
  },
  {
   "cell_type": "markdown",
   "metadata": {},
   "source": [
    "List comprehensions in Python offer several advantages and some potential disadvantages. Let's go through the pros and cons of using list comprehensions:\n",
    "\n",
    "#### Pros:\n",
    "\n",
    "* Readability: \n",
    "            List comprehensions can make your code more concise and easier to read, especially for simple operations on iterables.\n",
    "\n",
    "* Conciseness: List comprehensions allow you to express transformations and filters in a single line of code, reducing the overall code length.\n",
    "\n",
    "* Performance: In some cases, list comprehensions can be faster than traditional loops because they are optimized internally by Python's interpreter.\n",
    "\n",
    "* Functional Programming Style: List comprehensions promote a functional programming style by focusing on transformations and avoiding explicit mutation of data.\n",
    "\n",
    "*Easy to Understand for Simple Transformations: For straightforward operations, like mapping one set of values to another, list comprehensions are often easier to understand than a multi-line loop.\n",
    "\n",
    "#### Cons:\n",
    "\n",
    "* Readability for Complex Operations: For more complex operations, list comprehensions can become difficult to read and understand, reducing code maintainability.\n",
    "\n",
    "* Limited Expressiveness: List comprehensions are great for one-liners, but they might not be suitable for more intricate tasks that require multiple steps or conditions.\n",
    "\n",
    "* Debugging Complexity: When debugging, it can be harder to pinpoint issues within a complex list comprehension compared to a traditional loop.\n",
    "\n",
    "* Limited to Creating Lists: List comprehensions are specifically designed for creating lists. If you need to create other data structures, like dictionaries or sets, you'll need to use other techniques.\n",
    "\n",
    "* Less Explicit: While the concise nature of list comprehensions can be an advantage, it might also make your code less self-explanatory, especially for those unfamiliar with the concept."
   ]
  },
  {
   "cell_type": "markdown",
   "metadata": {},
   "source": [
    "### Basic Syntax\n",
    "* new_list = [expression for item in iterable if condition]\n",
    "* expression: The operation you want to perform on each item in the iterable.\n",
    "* item: The variable that takes on each value in the iterable.\n",
    "* iterable: The collection of items you're iterating through.\n",
    "* condition (optional): A filter that determines whether the item should be included in the new list based on a specified condition."
   ]
  },
  {
   "cell_type": "code",
   "execution_count": 25,
   "metadata": {},
   "outputs": [],
   "source": [
    "# Without List comprehension"
   ]
  },
  {
   "cell_type": "code",
   "execution_count": 67,
   "metadata": {},
   "outputs": [
    {
     "name": "stdout",
     "output_type": "stream",
     "text": [
      "[9, 18, 27, 36, 45, 54, 63, 72, 81, 90]\n"
     ]
    }
   ],
   "source": [
    "num = [1,2,3,4,5,6,7,8,9,10]\n",
    "results1 = []\n",
    "for i in num:\n",
    "    i = i * 9\n",
    "    results1.append(i)\n",
    "    \n",
    "print(results1)"
   ]
  },
  {
   "cell_type": "code",
   "execution_count": 68,
   "metadata": {},
   "outputs": [],
   "source": [
    "# Without List comprehension"
   ]
  },
  {
   "cell_type": "code",
   "execution_count": 69,
   "metadata": {},
   "outputs": [
    {
     "name": "stdout",
     "output_type": "stream",
     "text": [
      "[9, 18, 27, 36, 45, 54, 63, 72, 81, 90]\n"
     ]
    }
   ],
   "source": [
    "num = [1,2,3,4,5,6,7,8,9,10]\n",
    "results2 = []\n",
    "[results2.append(i * 9) for i in num]\n",
    "\n",
    "print(results2)"
   ]
  },
  {
   "cell_type": "code",
   "execution_count": 30,
   "metadata": {},
   "outputs": [],
   "source": [
    "# With List comprehension"
   ]
  },
  {
   "cell_type": "code",
   "execution_count": 70,
   "metadata": {},
   "outputs": [
    {
     "name": "stdout",
     "output_type": "stream",
     "text": [
      "[9, 18, 27, 36, 45, 54, 63, 72, 81, 90]\n"
     ]
    }
   ],
   "source": [
    "num = [1,2,3,4,5,6,7,8,9,10]\n",
    "\n",
    "results3= [(i * 9) for i in num]\n",
    "print(results3)"
   ]
  },
  {
   "cell_type": "code",
   "execution_count": 71,
   "metadata": {},
   "outputs": [],
   "source": [
    "# Without List comprehension"
   ]
  },
  {
   "cell_type": "code",
   "execution_count": 72,
   "metadata": {},
   "outputs": [
    {
     "name": "stdout",
     "output_type": "stream",
     "text": [
      "['I', 'AM', 'A', 'BOY']\n"
     ]
    }
   ],
   "source": [
    "string = [\"i\",\"am\",\"a\",\"boy\"]\n",
    "results4 = []\n",
    "for i in string:\n",
    "    i = i.upper()\n",
    "    results4.append(i)\n",
    "print(results4)"
   ]
  },
  {
   "cell_type": "code",
   "execution_count": 33,
   "metadata": {},
   "outputs": [],
   "source": [
    "# With List comprehension"
   ]
  },
  {
   "cell_type": "code",
   "execution_count": 73,
   "metadata": {},
   "outputs": [
    {
     "name": "stdout",
     "output_type": "stream",
     "text": [
      "['I', 'AM', 'A', 'BOY']\n"
     ]
    }
   ],
   "source": [
    "string = [\"i\",\"am\",\"a\",\"boy\"]\n",
    "results5= [(i.upper()) for i in string]\n",
    "\n",
    "print(results5)"
   ]
  },
  {
   "cell_type": "code",
   "execution_count": 36,
   "metadata": {},
   "outputs": [],
   "source": [
    "# With List comprehension"
   ]
  },
  {
   "cell_type": "code",
   "execution_count": 74,
   "metadata": {},
   "outputs": [
    {
     "name": "stdout",
     "output_type": "stream",
     "text": [
      "[9, 18, 27, 36, 45, 54, 63, 72, 81, 90]\n"
     ]
    }
   ],
   "source": [
    "results6 = [(i * 9) for i in [1,2,3,4,5,6,7,8,9,10]]\n",
    "print(results6)"
   ]
  },
  {
   "cell_type": "code",
   "execution_count": 37,
   "metadata": {},
   "outputs": [],
   "source": [
    "# Without List comprehension"
   ]
  },
  {
   "cell_type": "code",
   "execution_count": 7,
   "metadata": {},
   "outputs": [
    {
     "name": "stdout",
     "output_type": "stream",
     "text": [
      "[1, 4, 9, 16, 25, 36, 49, 64, 81, 100]\n"
     ]
    }
   ],
   "source": [
    "def square(x):\n",
    "    return x * x\n",
    "\n",
    "nums = [1,2,3,4,5,6,7,8,9,10]\n",
    "results6 = []\n",
    "for i in nums:\n",
    "    a = square(i)\n",
    "    results6.append(a)\n",
    "print(results6)\n"
   ]
  },
  {
   "cell_type": "code",
   "execution_count": 8,
   "metadata": {},
   "outputs": [],
   "source": [
    "# Without List comprehension"
   ]
  },
  {
   "cell_type": "code",
   "execution_count": 9,
   "metadata": {},
   "outputs": [
    {
     "name": "stdout",
     "output_type": "stream",
     "text": [
      "[1, 4, 9, 16, 25, 36, 49, 64, 81, 100]\n"
     ]
    }
   ],
   "source": [
    "nums = [1,2,3,4,5,6,7,8,9,10]\n",
    "results6 = []\n",
    "for i in nums:\n",
    "    a = i * i\n",
    "    results6.append(a)\n",
    "print(results6)\n"
   ]
  },
  {
   "cell_type": "code",
   "execution_count": 39,
   "metadata": {},
   "outputs": [],
   "source": [
    "# With List comprehension"
   ]
  },
  {
   "cell_type": "code",
   "execution_count": 2,
   "metadata": {},
   "outputs": [
    {
     "name": "stdout",
     "output_type": "stream",
     "text": [
      "[1, 4, 9, 16, 25, 36, 49, 64, 81, 100]\n"
     ]
    }
   ],
   "source": [
    "def square(x):\n",
    "    return x * x\n",
    "\n",
    "nums = [1,2,3,4,5,6,7,8,9,10]\n",
    "results7= [square(i) for i in nums]\n",
    "print(results7)\n"
   ]
  },
  {
   "cell_type": "code",
   "execution_count": 5,
   "metadata": {},
   "outputs": [],
   "source": [
    "# With List comprehension"
   ]
  },
  {
   "cell_type": "code",
   "execution_count": 6,
   "metadata": {},
   "outputs": [
    {
     "name": "stdout",
     "output_type": "stream",
     "text": [
      "[1, 4, 9, 16, 25, 36, 49, 64, 81, 100]\n"
     ]
    }
   ],
   "source": [
    "nums = [1,2,3,4,5,6,7,8,9,10]\n",
    "results17= [i * i for i in nums]\n",
    "print(results17)\n"
   ]
  },
  {
   "cell_type": "code",
   "execution_count": 41,
   "metadata": {},
   "outputs": [],
   "source": [
    "# With List comprehension"
   ]
  },
  {
   "cell_type": "code",
   "execution_count": 77,
   "metadata": {},
   "outputs": [
    {
     "name": "stdout",
     "output_type": "stream",
     "text": [
      "[1, 4, 9, 16, 25, 36, 49, 64, 81, 100]\n"
     ]
    }
   ],
   "source": [
    "def square(x):\n",
    "    return x * x\n",
    "\n",
    "results8= [square(i) for i in [1,2,3,4,5,6,7,8,9,10]]\n",
    "print(results8)"
   ]
  },
  {
   "cell_type": "code",
   "execution_count": 43,
   "metadata": {},
   "outputs": [],
   "source": [
    "# Without List comprehension"
   ]
  },
  {
   "cell_type": "code",
   "execution_count": 78,
   "metadata": {},
   "outputs": [
    {
     "name": "stdout",
     "output_type": "stream",
     "text": [
      "[64, 81, 100]\n"
     ]
    }
   ],
   "source": [
    "def square(x):\n",
    "    return x * x\n",
    "\n",
    "nums = [1,2,3,4,5,6,7,8,9,10]\n",
    "results9 = []\n",
    "for i in nums:\n",
    "    a = square(i)\n",
    "    if a> 50:\n",
    "        results9.append(a)\n",
    "print(results9)\n"
   ]
  },
  {
   "cell_type": "code",
   "execution_count": 45,
   "metadata": {},
   "outputs": [],
   "source": [
    "# Withour List comprehension"
   ]
  },
  {
   "cell_type": "code",
   "execution_count": 79,
   "metadata": {},
   "outputs": [
    {
     "name": "stdout",
     "output_type": "stream",
     "text": [
      "[64, 81, 100]\n"
     ]
    }
   ],
   "source": [
    "def square(x):\n",
    "    return x * x\n",
    "\n",
    "nums = [1,2,3,4,5,6,7,8,9,10]\n",
    "results10 = []\n",
    "for i in nums:\n",
    "    if square(i)>50:\n",
    "        results10.append(square(i))\n",
    "print(results10)\n"
   ]
  },
  {
   "cell_type": "code",
   "execution_count": 47,
   "metadata": {},
   "outputs": [],
   "source": [
    "# With List comprehension"
   ]
  },
  {
   "cell_type": "code",
   "execution_count": 80,
   "metadata": {},
   "outputs": [
    {
     "name": "stdout",
     "output_type": "stream",
     "text": [
      "[64, 81, 100]\n"
     ]
    }
   ],
   "source": [
    "def square(x):\n",
    "    return x * x\n",
    "\n",
    "nums = [1,2,3,4,5,6,7,8,9,10]\n",
    "results11 = [square(i) for i in nums if square(i) > 50]\n",
    "print(results11)\n"
   ]
  },
  {
   "cell_type": "code",
   "execution_count": 49,
   "metadata": {},
   "outputs": [],
   "source": [
    "# With List comprehension"
   ]
  },
  {
   "cell_type": "code",
   "execution_count": 81,
   "metadata": {},
   "outputs": [
    {
     "name": "stdout",
     "output_type": "stream",
     "text": [
      "[64, 81, 100]\n"
     ]
    }
   ],
   "source": [
    "def square(x):\n",
    "    return x * x\n",
    "\n",
    "results12 = [square(i) for i in [1,2,3,4,5,6,7,8,9,10] if square(i) > 50]\n",
    "print(results12)\n"
   ]
  },
  {
   "cell_type": "code",
   "execution_count": 51,
   "metadata": {},
   "outputs": [],
   "source": [
    "# Without List comprehension"
   ]
  },
  {
   "cell_type": "code",
   "execution_count": 82,
   "metadata": {},
   "outputs": [
    {
     "name": "stdout",
     "output_type": "stream",
     "text": [
      "['Dawood', 'Ahmad', 'Salman']\n"
     ]
    }
   ],
   "source": [
    "dicts = [{\"name\" : \"Dawood\"}, {\"name\" : \"Ahmad\"}, {\"name\" : \"Salman\"}]\n",
    "results13 = []\n",
    "for i in dicts:\n",
    "    a = i[\"name\"]\n",
    "    results13.append(a)\n",
    "print(results13)"
   ]
  },
  {
   "cell_type": "code",
   "execution_count": 59,
   "metadata": {},
   "outputs": [],
   "source": [
    "# Without List comprehension"
   ]
  },
  {
   "cell_type": "code",
   "execution_count": 83,
   "metadata": {},
   "outputs": [
    {
     "name": "stdout",
     "output_type": "stream",
     "text": [
      "['David', 'Kapathy', 'Hinton']\n"
     ]
    }
   ],
   "source": [
    "dicts = [{\"name\" : \"David\"}, {\"name\" : \"Kapathy\"}, {\"name\" : \"Hinton\"}]\n",
    "results14 = []\n",
    "for i in dicts:\n",
    "    a = i[\"name\"]\n",
    "    results14.append(a)\n",
    "print(results14)"
   ]
  },
  {
   "cell_type": "code",
   "execution_count": 61,
   "metadata": {},
   "outputs": [],
   "source": [
    "# Without List comprehension"
   ]
  },
  {
   "cell_type": "code",
   "execution_count": 84,
   "metadata": {},
   "outputs": [
    {
     "name": "stdout",
     "output_type": "stream",
     "text": [
      "['David', 'Kapathy', 'Hinton']\n"
     ]
    }
   ],
   "source": [
    "dicts = [{\"name\" : \"David\"}, {\"name\" : \"Kapathy\"}, {\"name\" : \"Hinton\"}]\n",
    "results15 = []\n",
    "for i in range(len(dicts)):\n",
    "    results15.append(dicts[i][\"name\"])\n",
    "print(results15)    "
   ]
  },
  {
   "cell_type": "code",
   "execution_count": 63,
   "metadata": {},
   "outputs": [],
   "source": [
    "# With List comprehension"
   ]
  },
  {
   "cell_type": "code",
   "execution_count": 85,
   "metadata": {},
   "outputs": [
    {
     "name": "stdout",
     "output_type": "stream",
     "text": [
      "['David', 'Kapathy', 'Hinton']\n"
     ]
    }
   ],
   "source": [
    "dicts = [{\"name\" : \"David\"}, {\"name\" : \"Kapathy\"}, {\"name\" : \"Hinton\"}]\n",
    "results16 = [dicts[i][\"name\"] for i in range(len(dicts))]\n",
    "print(results16)"
   ]
  },
  {
   "cell_type": "code",
   "execution_count": 65,
   "metadata": {},
   "outputs": [],
   "source": [
    "# With List comprehension"
   ]
  },
  {
   "cell_type": "code",
   "execution_count": 86,
   "metadata": {},
   "outputs": [
    {
     "name": "stdout",
     "output_type": "stream",
     "text": [
      "['David', 'Kapathy', 'Hinton']\n"
     ]
    }
   ],
   "source": [
    "dicts = [{\"name\" : \"David\"}, {\"name\" : \"Kapathy\"}, {\"name\" : \"Hinton\"}]\n",
    "results17 = [i[\"name\"] for i in dicts]\n",
    "print(results17)"
   ]
  },
  {
   "cell_type": "code",
   "execution_count": null,
   "metadata": {},
   "outputs": [],
   "source": []
  },
  {
   "cell_type": "code",
   "execution_count": null,
   "metadata": {},
   "outputs": [],
   "source": []
  }
 ],
 "metadata": {
  "kernelspec": {
   "display_name": "Virenv",
   "language": "python",
   "name": "python3"
  },
  "language_info": {
   "codemirror_mode": {
    "name": "ipython",
    "version": 3
   },
   "file_extension": ".py",
   "mimetype": "text/x-python",
   "name": "python",
   "nbconvert_exporter": "python",
   "pygments_lexer": "ipython3",
   "version": "3.10.12"
  },
  "orig_nbformat": 4
 },
 "nbformat": 4,
 "nbformat_minor": 2
}
