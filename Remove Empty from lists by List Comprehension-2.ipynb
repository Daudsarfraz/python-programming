{
 "cells": [
  {
   "cell_type": "markdown",
   "metadata": {},
   "source": [
    "### Removing empty List from a List"
   ]
  },
  {
   "cell_type": "code",
   "execution_count": 78,
   "metadata": {},
   "outputs": [
    {
     "name": "stdout",
     "output_type": "stream",
     "text": [
      "Non_Empty =  [1, 2, 3, 4, 5, 6, 7, [1], 'if', 'break', ''] \n",
      "Empty lists =  [[], [], []]\n"
     ]
    }
   ],
   "source": [
    "list0  = [1,2,3,4,5,6,7,[],[],[1],[],\"if\",\"break\", \"\"]\n",
    "result0 = []\n",
    "emptylists = []\n",
    "for x in list0:\n",
    "    if type(x) == list:\n",
    "        if len(x) == 1:\n",
    "            result0.append(x)\n",
    "        else:\n",
    "            emptylists.append(x)\n",
    "    else:\n",
    "        result0.append(x)\n",
    "                 \n",
    "print(\"Non_Empty = \", result0, \"\\nEmpty lists = \" , emptylists )"
   ]
  },
  {
   "cell_type": "code",
   "execution_count": 79,
   "metadata": {},
   "outputs": [
    {
     "name": "stdout",
     "output_type": "stream",
     "text": [
      "[1, 2, 3, 4, 5, 6, 7, [], [], 'if', 'break', '']\n"
     ]
    }
   ],
   "source": [
    "list1  = [1,2,3,4,5,6,7,[],[],\"if\",\"break\", \"\"]\n",
    "result1 = [x for x in list1]\n",
    "print(result1)"
   ]
  },
  {
   "cell_type": "code",
   "execution_count": 80,
   "metadata": {},
   "outputs": [
    {
     "name": "stdout",
     "output_type": "stream",
     "text": [
      "[1, 2, 3, 4, 5, 6, 7, 'if', 'break']\n"
     ]
    }
   ],
   "source": [
    "list2  = [1,2,3,4,5,6,7,[],[],\"if\",\"break\",\"\"]\n",
    "result2 = [x for x in list2 if x]\n",
    "print(result2) # empty string will not print"
   ]
  },
  {
   "cell_type": "code",
   "execution_count": 81,
   "metadata": {},
   "outputs": [
    {
     "name": "stdout",
     "output_type": "stream",
     "text": [
      "[1, 2, 3, 4, 5, 6, 7, 'if', 'break', '']\n"
     ]
    }
   ],
   "source": [
    "list2  = [1,2,3,4,5,6,7,[],[],\"if\",\"break\", \"\"]\n",
    "result2 = [x for x in list2 if x != []]\n",
    "print(result2) # empty string will be printed"
   ]
  },
  {
   "cell_type": "code",
   "execution_count": 82,
   "metadata": {},
   "outputs": [
    {
     "name": "stdout",
     "output_type": "stream",
     "text": [
      "[[], []]\n"
     ]
    }
   ],
   "source": [
    "list2  = [1,2,3,4,5,6,7,[],[],\"if\",\"break\", \"\"]\n",
    "result2 = [x for x in list2 if x == []]\n",
    "print(result2) # just empty lists will be printed"
   ]
  },
  {
   "cell_type": "code",
   "execution_count": 83,
   "metadata": {},
   "outputs": [],
   "source": [
    "# Using Filter Function"
   ]
  },
  {
   "cell_type": "code",
   "execution_count": 84,
   "metadata": {},
   "outputs": [
    {
     "data": {
      "text/plain": [
       "[1, 2, 3, 4, 5, 6, 7, 'if', 'break']"
      ]
     },
     "execution_count": 84,
     "metadata": {},
     "output_type": "execute_result"
    }
   ],
   "source": [
    "list3  = [1,2,3,4,5,6,7,[],[],\"if\",\"break\", \"\"]\n",
    "# list(filter(callable , iterable))\n",
    "result3 = list(filter(None , list3)) # Will remove empty string too\n",
    "result3"
   ]
  },
  {
   "cell_type": "code",
   "execution_count": 85,
   "metadata": {},
   "outputs": [
    {
     "data": {
      "text/plain": [
       "[1, 2, 3, 4, 5, 6, 7, 'if', 'break']"
      ]
     },
     "execution_count": 85,
     "metadata": {},
     "output_type": "execute_result"
    }
   ],
   "source": [
    "list3  = [1,2,3,4,5,6,7,[],[],\"if\",\"break\", \"\"]\n",
    "# list(filter(callable , iterable))\n",
    "result3 = list(filter(lambda x : x , list3)) # Will remove empty string too\n",
    "result3"
   ]
  },
  {
   "cell_type": "code",
   "execution_count": 86,
   "metadata": {},
   "outputs": [
    {
     "data": {
      "text/plain": [
       "[1, 2, 3, 4, 5, 6, 7, 'if', 'break', '']"
      ]
     },
     "execution_count": 86,
     "metadata": {},
     "output_type": "execute_result"
    }
   ],
   "source": [
    "list3  = [1,2,3,4,5,6,7,[],[],\"if\",\"break\", \"\"]\n",
    "# list(filter(callable , iterable))\n",
    "result3 = list(filter(lambda x : x != [] , list3)) # Will not remove empty string\n",
    "result3"
   ]
  },
  {
   "cell_type": "code",
   "execution_count": 87,
   "metadata": {},
   "outputs": [
    {
     "data": {
      "text/plain": [
       "[[], []]"
      ]
     },
     "execution_count": 87,
     "metadata": {},
     "output_type": "execute_result"
    }
   ],
   "source": [
    "list3  = [1,2,3,4,5,6,7,[],[],\"if\",\"break\", \"\"]\n",
    "# list(filter(callable , iterable))\n",
    "result3 = list(filter(lambda x : x == [] , list3)) # Will print only empty strings\n",
    "result3"
   ]
  },
  {
   "cell_type": "code",
   "execution_count": null,
   "metadata": {},
   "outputs": [],
   "source": []
  },
  {
   "cell_type": "code",
   "execution_count": null,
   "metadata": {},
   "outputs": [],
   "source": []
  }
 ],
 "metadata": {
  "kernelspec": {
   "display_name": "Python 3",
   "language": "python",
   "name": "python3"
  },
  "language_info": {
   "codemirror_mode": {
    "name": "ipython",
    "version": 3
   },
   "file_extension": ".py",
   "mimetype": "text/x-python",
   "name": "python",
   "nbconvert_exporter": "python",
   "pygments_lexer": "ipython3",
   "version": "3.10.12"
  },
  "orig_nbformat": 4
 },
 "nbformat": 4,
 "nbformat_minor": 2
}
