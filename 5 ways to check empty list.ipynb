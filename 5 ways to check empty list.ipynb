{
 "cells": [
  {
   "cell_type": "markdown",
   "metadata": {},
   "source": [
    "### How to check a list is EMPTY or NOT"
   ]
  },
  {
   "cell_type": "code",
   "execution_count": 56,
   "metadata": {},
   "outputs": [
    {
     "name": "stdout",
     "output_type": "stream",
     "text": [
      "List1 Empty\n",
      "List2 Non-Empty\n"
     ]
    }
   ],
   "source": [
    "list1 = []\n",
    "\n",
    "if not list1:\n",
    "    print(\"List1 Empty\")\n",
    "else:\n",
    "    print(\"List1 Non-Empty\")\n",
    "\n",
    "\n",
    "list2 = [3,4,5]\n",
    "\n",
    "if not list2:\n",
    "    print(\"List2 Empty\")\n",
    "else:\n",
    "    print(\"List2 Non-Empty\")"
   ]
  },
  {
   "cell_type": "code",
   "execution_count": 57,
   "metadata": {},
   "outputs": [
    {
     "name": "stdout",
     "output_type": "stream",
     "text": [
      "List3 Empty\n",
      "List4 Non-Empty\n"
     ]
    }
   ],
   "source": [
    "list3 = []\n",
    "\n",
    "if not any(list3):\n",
    "    print(\"List3 Empty\")\n",
    "else:\n",
    "    print(\"List3 Non-Empty\")\n",
    "\n",
    "\n",
    "list4 = [3,4,5]\n",
    "\n",
    "if not any(list4):\n",
    "    print(\"List4 Empty\")\n",
    "else:\n",
    "    print(\"List4 Non-Empty\")\n"
   ]
  },
  {
   "cell_type": "code",
   "execution_count": 58,
   "metadata": {},
   "outputs": [
    {
     "name": "stdout",
     "output_type": "stream",
     "text": [
      "List5 Empty\n",
      "List6 Non-Empty\n"
     ]
    }
   ],
   "source": [
    "list5 = []\n",
    "\n",
    "if isinstance(list5, list) and not list5:\n",
    "    print(\"List5 Empty\")\n",
    "else:\n",
    "    print(\"List5 Non-Empty\")\n",
    "\n",
    "\n",
    "list6 = [3,4,5]\n",
    "\n",
    "if isinstance(list6, list) and not list6:\n",
    "    print(\"List6 Empty\")\n",
    "else:\n",
    "    print(\"List6 Non-Empty\")\n"
   ]
  },
  {
   "cell_type": "code",
   "execution_count": 59,
   "metadata": {},
   "outputs": [
    {
     "name": "stdout",
     "output_type": "stream",
     "text": [
      "List7 Empty\n",
      "List8 Non-Empty\n"
     ]
    }
   ],
   "source": [
    "list7 = []\n",
    "\n",
    "if len(list7) == 0:\n",
    "    print(\"List7 Empty\")\n",
    "else:\n",
    "    print(\"List7 Non-Empty\")\n",
    "\n",
    "\n",
    "list8 = [3,4,5]\n",
    "\n",
    "if len(list8) == 0:\n",
    "    print(\"List8 Empty\")\n",
    "else:\n",
    "    print(\"List8 Non-Empty\")"
   ]
  },
  {
   "cell_type": "code",
   "execution_count": 60,
   "metadata": {},
   "outputs": [
    {
     "name": "stdout",
     "output_type": "stream",
     "text": [
      "List7 Empty\n",
      "List8 Non-Empty\n"
     ]
    }
   ],
   "source": [
    "list7 = []\n",
    "\n",
    "if list7 == []:\n",
    "    print(\"List7 Empty\")\n",
    "else:\n",
    "    print(\"List7 Non-Empty\")\n",
    "\n",
    "\n",
    "list8 = [3,4,5]\n",
    "\n",
    "if list8 == []:\n",
    "    print(\"List8 Empty\")\n",
    "else:\n",
    "    print(\"List8 Non-Empty\")"
   ]
  },
  {
   "cell_type": "code",
   "execution_count": null,
   "metadata": {},
   "outputs": [],
   "source": []
  },
  {
   "cell_type": "code",
   "execution_count": null,
   "metadata": {},
   "outputs": [],
   "source": []
  }
 ],
 "metadata": {
  "kernelspec": {
   "display_name": "Virenv",
   "language": "python",
   "name": "python3"
  },
  "language_info": {
   "codemirror_mode": {
    "name": "ipython",
    "version": 3
   },
   "file_extension": ".py",
   "mimetype": "text/x-python",
   "name": "python",
   "nbconvert_exporter": "python",
   "pygments_lexer": "ipython3",
   "version": "3.10.12"
  },
  "orig_nbformat": 4
 },
 "nbformat": 4,
 "nbformat_minor": 2
}
